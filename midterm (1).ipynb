{
 "cells": [
  {
   "cell_type": "markdown",
   "metadata": {},
   "source": [
    "# STATS 506 Fall 2021\n",
    "## Midterm: Revisit the First Half of the Semester  \n",
    "\n",
    "\n",
    "\n",
    "**Assigned:** 10/21/2021\n",
    "\n",
    "**Due:** 11/04/2021 by 11:59pm"
   ]
  },
  {
   "cell_type": "markdown",
   "metadata": {},
   "source": [
    "## Instructions\n",
    "\n",
    "- Submit the assignment by the due date via Canvas as a html file.  \n",
    "\n",
    "- All files read, sourced, or referred to within scripts should be assumed to be in the same working directory\n",
    "\n",
    "- Your code should be clearly written and it should be possible to assess it by reading it. Use appropriate variable names and comments.\n",
    "\n",
    "- Some of these exercises may require you to use commands or techniques that were not covered in class or in the course notes. You can use the web as needed to identify appropriate approaches. Part of the purpose of these exercises is for you to learn to be resourceful and self sufficient. Questions are welcome at all times, but please make an attempt to locate relevant information yourself first.\n",
    "\n",
    "- Your submission should include a write-up as a pdf or HTML document and all scripts needed to reproduce. In your document, describe how the files submitted related to one another and be sure to answer the questions.  Scripts for this assignment you should submit: R (.R) and the write up itself (.pdf or .html.)\n",
    "\n",
    "\n",
    "- For each of your function, write at least a one line description of whats its arguments are, and what it does\n"
   ]
  },
  {
   "cell_type": "markdown",
   "metadata": {},
   "source": [
    "## Problem 1 -- 50 points"
   ]
  },
  {
   "cell_type": "markdown",
   "metadata": {},
   "source": [
    "Assume the linear regression model that satisfies the following equation:\n",
    "\n",
    "$$\n",
    "y =  \\beta X + \\epsilon,\n",
    "$$\n",
    "where $\\epsilon$ is the random noise and $X$ is the covariate.  Assume that there are $n$ samples that follows the above linear regression model. Recall that the classical linear regression model assumes that $\\mathrm{E}(\\epsilon) = 0$ and that $\\epsilon_1,\\ldots,\\epsilon_n$ are all uncorrelated with each other, and that the linear regression estimator for  $\\beta$  is obtained by minimizing the following objective function\n",
    "$$\\frac{1}{n} \\sum_{i=1}^n (y_i - \\beta X_i)^2. $$\n",
    "\n",
    "We will study the impact of the violation of the uncorrelated assumption under different correlation structures. \n",
    "\n"
   ]
  },
  {
   "cell_type": "markdown",
   "metadata": {},
   "source": [
    "## Data Generation Process"
   ]
  },
  {
   "cell_type": "markdown",
   "metadata": {},
   "source": [
    "In this problem, we will generate data as follows:\n",
    "- $\\beta^* = 0.5$\n",
    "- $X_i \\sim N(0,1)$ for all $i=1,\\ldots,n$\n",
    "- Let $\\boldsymbol{\\epsilon}_g \\sim N(\\mathbf{0}, \\mathbf{R}_g)$ be a length $R$ vector and $\\mathbf{R}_g$ is a $R \\times R$ correlation matrix to be defined later.   \n",
    "- $\\mathbf{y}_g = \\beta^* \\mathbf{X}_g + \\boldsymbol{\\epsilon}_g$\n",
    "- We will consider three different types of correlation matrix $\\mathbf{R}_g$:\n",
    "    - the identity matrix, i.e., $\\mathbf{R}_g = \\mathbf{I}$\n",
    "    - the exchangeable correlation matrix, i.e., the diagonal is 1 and the off-diagonal is 0.8.\n",
    "    - the AR-1 type correlation matrix, i.e., the diagonal is 1 and the off diagonal $(R_g)_{ij} = 0.7^{|i-j|}$.\n",
    "    - We will consider the case when $R = 5$ and $G=50$, with $n= G*R$. In other words, we have 50 groups and a total of $n=250$ samples. "
   ]
  },
  {
   "cell_type": "markdown",
   "metadata": {},
   "source": [
    "## Problem Instruction\n",
    "\n",
    "Fit a simple linear regression without intercept using the `lm` function to the above data and obtain an estimator for $\\beta^*$.  Calculate the 95\\% confidence interval and report both the coverage probability of $\\beta^*$, the variance of your estimator, as well as the width of the confidence interval. All of these can be obtained using the `lm` function.  To obtain the coverage probability, repeat the above experiment 200 times.  When would you expect to get a $95\\%$ coverage.  Explain your results.  "
   ]
  },
  {
   "cell_type": "markdown",
   "metadata": {},
   "source": [
    "Now, your collaborator suggests an alternative estimator for estimating the regression coefficient.  In particular, your collaborator says that he/she has some prior knowledge on the correlation among the subjects and would like to use an estimator that takes the following form: "
   ]
  },
  {
   "cell_type": "markdown",
   "metadata": {},
   "source": [
    "$$\\bar{\\beta} =( \\sum_{g=1}^G  \\mathbf{X}_g^T \\mathbf{R}_g^{-1} \\mathbf{X}_g)^{-1} (\\sum_{g=1}^G (\\mathbf{X}_g^T \\mathbf{R}_g^{-1} \\mathbf{y}_g)$$"
   ]
  },
  {
   "cell_type": "markdown",
   "metadata": {},
   "source": [
    "where $\\mathbf{X}_g$ is a $R \\times 1$ matrix and $\\mathbf{y}_g$ is a $R$-dimensional vector. This estimator is also referred to as the weighted least squares. "
   ]
  },
  {
   "cell_type": "markdown",
   "metadata": {},
   "source": [
    "However, you have not taken many STATS classes and you are unsure how to calculate the variance and confidence intervals for $\\bar{\\beta}$.   Therefore, you resort to using the bootstrap procedures to calculate the confidence intervals.  "
   ]
  },
  {
   "cell_type": "markdown",
   "metadata": {},
   "source": [
    "You will consider two bootstrap approaches:\n",
    "\n",
    "- Using the traditional bootstrap procedures by resampling each of the data $(y_i,X_i)$ with replacement. Calculate the CI using the percentile method. \n",
    "- Using the modified bootstrap procedures by resampling each of the data group $(y_g,X_g)$ with replacement. Calculate the CI using the percentile method. \n",
    "\n",
    "Report the Coverage, width of the CIs, and the variance estimated by bootstrap in a table for all three cases of the correlation matrix.   \n",
    "\n",
    "Report your results, explain the phenomena you observe, and compare to the results obtained for the ordinary simple linear regression approach.    \n"
   ]
  },
  {
   "cell_type": "markdown",
   "metadata": {},
   "source": [
    "## Problem 2 -- 50 points"
   ]
  },
  {
   "cell_type": "markdown",
   "metadata": {},
   "source": [
    "In this problem, you will be analyzing the [NHANES](https://www.cdc.gov/nchs/nhanes/index.htm) dataset.  In the link itself, you can find the data and the documentation.  Feel free to use any data in the webpage.    You will design a substantive question and answer the question using the tools that you have learnt in this class.  The amount of work to answer your substantive question should be similar to that of homework 2.  For instance, you could ask: ``are people in the US more likely to drink water on a weekday than on a weekend day?\". \n",
    "\n"
   ]
  },
  {
   "cell_type": "markdown",
   "metadata": {},
   "source": [
    "Report the following for this question:\n",
    "\n",
    "- Introduction: A paragraph explaining what your question is, why it is interesting, and ending with a high level description of the analysis you did (not the results).\n",
    "\n",
    "- Data / Methods: Describe your data source and the methods you used. There should be enough detail here that I could repeat your analysis. Focus on what you did, not how you did it.\n",
    "\n",
    "- Results: What did you find? This should be the largest section and is where all of your tabular/graphical elements go.\n",
    "\n",
    "- Conclusion / Discussion: What do your results allow us to conclude about the question you posed? What are the strengths and limitations of your analysis?"
   ]
  },
  {
   "cell_type": "code",
   "execution_count": null,
   "metadata": {},
   "outputs": [],
   "source": []
  }
 ],
 "metadata": {
  "kernelspec": {
   "display_name": "R",
   "language": "R",
   "name": "ir"
  },
  "language_info": {
   "codemirror_mode": "r",
   "file_extension": ".r",
   "mimetype": "text/x-r-source",
   "name": "R",
   "pygments_lexer": "r",
   "version": "4.1.1"
  }
 },
 "nbformat": 4,
 "nbformat_minor": 2
}
